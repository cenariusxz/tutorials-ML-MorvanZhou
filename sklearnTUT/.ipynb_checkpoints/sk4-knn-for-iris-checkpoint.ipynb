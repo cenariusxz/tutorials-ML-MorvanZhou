{
 "cells": [
  {
   "cell_type": "code",
   "execution_count": 1,
   "metadata": {},
   "outputs": [],
   "source": [
    "from sklearn import datasets\n",
    "from sklearn.model_selection import train_test_split\n",
    "from sklearn.neighbors import KNeighborsClassifier\n",
    "from sklearn.svm import LinearSVC, SVC"
   ]
  },
  {
   "cell_type": "code",
   "execution_count": 2,
   "metadata": {
    "scrolled": true
   },
   "outputs": [],
   "source": [
    "iris = datasets.load_iris()\n",
    "# print(iris)  \n",
    "# iris.data -- (number of instances) * (number of features)\n",
    "# iris.target -- labels  number of instances\n",
    "# iris.target_names -- label_name   number of labels\n",
    "# iris.DESCR  --  description\n",
    "# iris.feature_names -- feature_name   number of features\n",
    "# iris.filename  --  path of dataset file   format of csv"
   ]
  },
  {
   "cell_type": "code",
   "execution_count": 3,
   "metadata": {
    "scrolled": true
   },
   "outputs": [],
   "source": [
    "# print(iris.DESCR)"
   ]
  },
  {
   "cell_type": "code",
   "execution_count": 4,
   "metadata": {},
   "outputs": [
    {
     "name": "stdout",
     "output_type": "stream",
     "text": [
      "<class 'numpy.ndarray'>\n",
      "600\n",
      "(150, 4)\n"
     ]
    }
   ],
   "source": [
    "print(type(iris.data))\n",
    "print(iris.data.size)\n",
    "print(iris.data.shape)"
   ]
  },
  {
   "cell_type": "code",
   "execution_count": 5,
   "metadata": {},
   "outputs": [],
   "source": [
    "iris_X = iris.data  # iris.data -- (number of instances) * (number of features)\n",
    "iris_Y = iris.target  # iris.target -- labels  number of instances"
   ]
  },
  {
   "cell_type": "code",
   "execution_count": 20,
   "metadata": {},
   "outputs": [
    {
     "name": "stdout",
     "output_type": "stream",
     "text": [
      "(105, 4)\n",
      "(45, 4)\n",
      "(105,)\n",
      "(45,)\n",
      "[0 0 1 2 0 2 2 2 0 0 0 1 2 1 1 2 1 1 1 0 0 1 0 2 2 0 0 0 2 1 0 0 2 1 1 1 1\n",
      " 2 2 1 2 2 1 0 2]\n"
     ]
    }
   ],
   "source": [
    "X_train, X_test, Y_train, Y_test = train_test_split(iris_X, iris_Y, test_size=0.3)  # with random_shuffle\n",
    "print(X_train.shape)\n",
    "print(X_test.shape)\n",
    "print(Y_train.shape)\n",
    "print(Y_test.shape)\n",
    "print(Y_test)"
   ]
  },
  {
   "cell_type": "code",
   "execution_count": 21,
   "metadata": {},
   "outputs": [
    {
     "name": "stdout",
     "output_type": "stream",
     "text": [
      "[0 0 1 2 0 2 2 2 0 0 0 1 1 1 1 2 1 1 1 0 0 1 0 2 2 0 0 0 2 1 0 0 2 1 1 1 1\n",
      " 1 2 1 1 2 1 0 2]\n",
      "[0 0 1 2 0 2 2 2 0 0 0 1 2 1 1 2 1 1 1 0 0 1 0 2 2 0 0 0 2 1 0 0 2 1 1 1 1\n",
      " 2 2 1 2 2 1 0 2]\n"
     ]
    }
   ],
   "source": [
    "kNN = KNeighborsClassifier(n_neighbors=5, weights=\"distance\", n_jobs=1)  # create an instance of KNeighborsClassifier model    \n",
    "# param: n_neighbors - numbers of nearest neighbors   default: 5\n",
    "#        weights - weights of nearest samples   default: \"uniform\"\n",
    "#        algorithm - algorithm to search the nearest neighbors    default: \"auto\"    can choose:\"kd_tree\" \"ball_tree\" \"brute\"\n",
    "#        n_jobs - default: 1   choose -1 for all processes\n",
    "kNN.fit(X_train, Y_train)     # train \n",
    "print(kNN.predict(X_test))\n",
    "print(Y_test)"
   ]
  },
  {
   "cell_type": "code",
   "execution_count": 22,
   "metadata": {},
   "outputs": [
    {
     "name": "stdout",
     "output_type": "stream",
     "text": [
      "[ True  True  True  True  True  True  True  True  True  True  True  True\n",
      " False  True  True  True  True  True  True  True  True  True  True  True\n",
      "  True  True  True  True  True  True  True  True  True  True  True  True\n",
      "  True False  True  True False  True  True  True  True]\n"
     ]
    }
   ],
   "source": [
    "print(kNN.predict(X_test) == Y_test)"
   ]
  },
  {
   "cell_type": "code",
   "execution_count": 23,
   "metadata": {},
   "outputs": [
    {
     "name": "stdout",
     "output_type": "stream",
     "text": [
      "42\n"
     ]
    }
   ],
   "source": [
    "print( sum(kNN.predict(X_test) == Y_test))"
   ]
  },
  {
   "cell_type": "code",
   "execution_count": 24,
   "metadata": {},
   "outputs": [
    {
     "name": "stdout",
     "output_type": "stream",
     "text": [
      "0.9333333333333333\n"
     ]
    }
   ],
   "source": [
    "print( sum(kNN.predict(X_test) == Y_test) / Y_test.size)"
   ]
  },
  {
   "cell_type": "code",
   "execution_count": 25,
   "metadata": {},
   "outputs": [
    {
     "name": "stdout",
     "output_type": "stream",
     "text": [
      "[0 0 1 2 0 2 2 2 0 0 0 1 2 2 1 2 1 1 1 0 0 1 0 2 2 0 0 0 1 1 0 0 2 1 1 1 1\n",
      " 1 2 1 2 2 1 0 2]\n",
      "[0 0 1 2 0 2 2 2 0 0 0 1 2 1 1 2 1 1 1 0 0 1 0 2 2 0 0 0 2 1 0 0 2 1 1 1 1\n",
      " 2 2 1 2 2 1 0 2]\n",
      "[ True  True  True  True  True  True  True  True  True  True  True  True\n",
      "  True False  True  True  True  True  True  True  True  True  True  True\n",
      "  True  True  True  True False  True  True  True  True  True  True  True\n",
      "  True False  True  True  True  True  True  True  True]\n",
      "42\n",
      "0.9333333333333333\n"
     ]
    }
   ],
   "source": [
    "LSVC = LinearSVC(penalty='l2',max_iter=5000)\n",
    "LSVC.fit(X_train, Y_train)\n",
    "print(LSVC.predict(X_test))\n",
    "print(Y_test)\n",
    "print(LSVC.predict(X_test) == Y_test)\n",
    "print( sum(LSVC.predict(X_test) == Y_test))\n",
    "print( sum(LSVC.predict(X_test) == Y_test) / Y_test.size)"
   ]
  },
  {
   "cell_type": "code",
   "execution_count": 26,
   "metadata": {},
   "outputs": [
    {
     "name": "stdout",
     "output_type": "stream",
     "text": [
      "[0 0 1 2 0 2 2 2 0 0 0 1 1 1 1 2 1 1 1 0 0 1 0 2 2 0 0 0 2 1 0 0 2 1 1 1 1\n",
      " 2 2 1 2 2 1 0 2]\n",
      "[0 0 1 2 0 2 2 2 0 0 0 1 2 1 1 2 1 1 1 0 0 1 0 2 2 0 0 0 2 1 0 0 2 1 1 1 1\n",
      " 2 2 1 2 2 1 0 2]\n",
      "[ True  True  True  True  True  True  True  True  True  True  True  True\n",
      " False  True  True  True  True  True  True  True  True  True  True  True\n",
      "  True  True  True  True  True  True  True  True  True  True  True  True\n",
      "  True  True  True  True  True  True  True  True  True]\n",
      "44\n",
      "0.9777777777777777\n"
     ]
    }
   ],
   "source": [
    "modelSVC = SVC()\n",
    "modelSVC.fit(X_train, Y_train)\n",
    "print(modelSVC.predict(X_test))\n",
    "print(Y_test)\n",
    "print(modelSVC.predict(X_test) == Y_test)\n",
    "print( sum(modelSVC.predict(X_test) == Y_test))\n",
    "print( sum(modelSVC.predict(X_test) == Y_test) / Y_test.size)"
   ]
  },
  {
   "cell_type": "code",
   "execution_count": null,
   "metadata": {},
   "outputs": [],
   "source": []
  }
 ],
 "metadata": {
  "kernelspec": {
   "display_name": "Python 3",
   "language": "python",
   "name": "python3"
  },
  "language_info": {
   "codemirror_mode": {
    "name": "ipython",
    "version": 3
   },
   "file_extension": ".py",
   "mimetype": "text/x-python",
   "name": "python",
   "nbconvert_exporter": "python",
   "pygments_lexer": "ipython3",
   "version": "3.7.6"
  }
 },
 "nbformat": 4,
 "nbformat_minor": 4
}
