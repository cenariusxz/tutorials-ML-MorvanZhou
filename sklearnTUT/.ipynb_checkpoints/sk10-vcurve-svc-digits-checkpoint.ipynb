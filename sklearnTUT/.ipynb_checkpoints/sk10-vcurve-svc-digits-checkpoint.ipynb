{
 "cells": [
  {
   "cell_type": "code",
   "execution_count": 4,
   "metadata": {},
   "outputs": [
    {
     "name": "stdout",
     "output_type": "stream",
     "text": [
      "[1.00000000e-06 2.57698037e-06 6.64082785e-06 1.71132830e-05\n",
      " 4.41005945e-05 1.13646367e-04 2.92864456e-04 7.54705957e-04\n",
      " 1.94486244e-03 5.01187234e-03]\n"
     ]
    }
   ],
   "source": [
    "from sklearn.datasets import load_digits\n",
    "from sklearn.model_selection import validation_curve\n",
    "from sklearn.svm import SVC\n",
    "import matplotlib.pyplot as plt\n",
    "import numpy as np\n",
    "\n",
    "digits = load_digits()\n",
    "X_data = digits.data\n",
    "Y_data = digits.target\n",
    "gamma_range = np.logspace(-6, -2.3, 10)\n",
    "print(gamma_range)"
   ]
  },
  {
   "cell_type": "code",
   "execution_count": 8,
   "metadata": {},
   "outputs": [
    {
     "data": {
      "image/png": "[encoded data removed]",
      "text/plain": [
       "<Figure size 432x288 with 1 Axes>"
      ]
     },
     "metadata": {
      "needs_background": "light"
     },
     "output_type": "display_data"
    }
   ],
   "source": [
    "train_loss, test_loss = validation_curve(SVC(), X_data, Y_data, \n",
    "                                         param_name='gamma', param_range=gamma_range, \n",
    "                                         cv=10, scoring='neg_mean_squared_error', n_jobs=-1)\n",
    "train_loss_mean = -np.mean(train_loss, axis=1)\n",
    "test_loss_mean = -np.mean(test_loss, axis=1)\n",
    "plt.plot(gamma_range, train_loss_mean, 'o-', color='r', label='Training')\n",
    "plt.plot(gamma_range, test_loss_mean, 'o-', color='b', label='Cross_Validation')\n",
    "\n",
    "plt.xlabel('#gamma')\n",
    "plt.ylabel('CV MSE')\n",
    "plt.legend(loc='best')\n",
    "plt.show()"
   ]
  },
  {
   "cell_type": "code",
   "execution_count": 6,
   "metadata": {},
   "outputs": [
    {
     "name": "stdout",
     "output_type": "stream",
     "text": [
      "Help on function validation_curve in module sklearn.model_selection._validation:\n",
      "\n",
      "validation_curve(estimator, X, y, param_name, param_range, groups=None, cv=None, scoring=None, n_jobs=None, pre_dispatch='all', verbose=0, error_score=nan)\n",
      "    Validation curve.\n",
      "    \n",
      "    Determine training and test scores for varying parameter values.\n",
      "    \n",
      "    Compute scores for an estimator with different values of a specified\n",
      "    parameter. This is similar to grid search with one parameter. However, this\n",
      "    will also compute training scores and is merely a utility for plotting the\n",
      "    results.\n",
      "    \n",
      "    Read more in the :ref:`User Guide <learning_curve>`.\n",
      "    \n",
      "    Parameters\n",
      "    ----------\n",
      "    estimator : object type that implements the \"fit\" and \"predict\" methods\n",
      "        An object of that type which is cloned for each validation.\n",
      "    \n",
      "    X : array-like, shape (n_samples, n_features)\n",
      "        Training vector, where n_samples is the number of samples and\n",
      "        n_features is the number of features.\n",
      "    \n",
      "    y : array-like, shape (n_samples) or (n_samples, n_features), optional\n",
      "        Target relative to X for classification or regression;\n",
      "        None for unsupervised learning.\n",
      "    \n",
      "    param_name : string\n",
      "        Name of the parameter that will be varied.\n",
      "    \n",
      "    param_range : array-like, shape (n_values,)\n",
      "        The values of the parameter that will be evaluated.\n",
      "    \n",
      "    groups : array-like, with shape (n_samples,), optional\n",
      "        Group labels for the samples used while splitting the dataset into\n",
      "        train/test set. Only used in conjunction with a \"Group\" :term:`cv`\n",
      "        instance (e.g., :class:`GroupKFold`).\n",
      "    \n",
      "    cv : int, cross-validation generator or an iterable, optional\n",
      "        Determines the cross-validation splitting strategy.\n",
      "        Possible inputs for cv are:\n",
      "    \n",
      "        - None, to use the default 5-fold cross validation,\n",
      "        - integer, to specify the number of folds in a `(Stratified)KFold`,\n",
      "        - :term:`CV splitter`,\n",
      "        - An iterable yielding (train, test) splits as arrays of indices.\n",
      "    \n",
      "        For integer/None inputs, if the estimator is a classifier and ``y`` is\n",
      "        either binary or multiclass, :class:`StratifiedKFold` is used. In all\n",
      "        other cases, :class:`KFold` is used.\n",
      "    \n",
      "        Refer :ref:`User Guide <cross_validation>` for the various\n",
      "        cross-validation strategies that can be used here.\n",
      "    \n",
      "        .. versionchanged:: 0.22\n",
      "            ``cv`` default value if None changed from 3-fold to 5-fold.\n",
      "    \n",
      "    scoring : string, callable or None, optional, default: None\n",
      "        A string (see model evaluation documentation) or\n",
      "        a scorer callable object / function with signature\n",
      "        ``scorer(estimator, X, y)``.\n",
      "    \n",
      "    n_jobs : int or None, optional (default=None)\n",
      "        Number of jobs to run in parallel.\n",
      "        ``None`` means 1 unless in a :obj:`joblib.parallel_backend` context.\n",
      "        ``-1`` means using all processors. See :term:`Glossary <n_jobs>`\n",
      "        for more details.\n",
      "    \n",
      "    pre_dispatch : integer or string, optional\n",
      "        Number of predispatched jobs for parallel execution (default is\n",
      "        all). The option can reduce the allocated memory. The string can\n",
      "        be an expression like '2*n_jobs'.\n",
      "    \n",
      "    verbose : integer, optional\n",
      "        Controls the verbosity: the higher, the more messages.\n",
      "    \n",
      "    error_score : 'raise' or numeric\n",
      "        Value to assign to the score if an error occurs in estimator fitting.\n",
      "        If set to 'raise', the error is raised.\n",
      "        If a numeric value is given, FitFailedWarning is raised. This parameter\n",
      "        does not affect the refit step, which will always raise the error.\n",
      "    \n",
      "    Returns\n",
      "    -------\n",
      "    train_scores : array, shape (n_ticks, n_cv_folds)\n",
      "        Scores on training sets.\n",
      "    \n",
      "    test_scores : array, shape (n_ticks, n_cv_folds)\n",
      "        Scores on test set.\n",
      "    \n",
      "    Notes\n",
      "    -----\n",
      "    See :ref:`sphx_glr_auto_examples_model_selection_plot_validation_curve.py`\n",
      "\n"
     ]
    }
   ],
   "source": [
    "help(validation_curve)"
   ]
  },
  {
   "cell_type": "code",
   "execution_count": null,
   "metadata": {},
   "outputs": [],
   "source": []
  }
 ],
 "metadata": {
  "kernelspec": {
   "display_name": "Python 3",
   "language": "python",
   "name": "python3"
  },
  "language_info": {
   "codemirror_mode": {
    "name": "ipython",
    "version": 3
   },
   "file_extension": ".py",
   "mimetype": "text/x-python",
   "name": "python",
   "nbconvert_exporter": "python",
   "pygments_lexer": "ipython3",
   "version": "3.7.6"
  }
 },
 "nbformat": 4,
 "nbformat_minor": 4
}
