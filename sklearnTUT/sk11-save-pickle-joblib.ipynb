{
 "cells": [
  {
   "cell_type": "code",
   "execution_count": 1,
   "metadata": {},
   "outputs": [
    {
     "data": {
      "text/plain": [
       "SVC(C=1.0, break_ties=False, cache_size=200, class_weight=None, coef0=0.0,\n",
       "    decision_function_shape='ovr', degree=3, gamma='scale', kernel='rbf',\n",
       "    max_iter=-1, probability=False, random_state=None, shrinking=True,\n",
       "    tol=0.001, verbose=False)"
      ]
     },
     "execution_count": 1,
     "metadata": {},
     "output_type": "execute_result"
    }
   ],
   "source": [
    "import os\n",
    "from sklearn.svm import SVC\n",
    "from sklearn.datasets import load_iris\n",
    "\n",
    "iris = load_iris()\n",
    "X_data = iris.data\n",
    "Y_data = iris.target\n",
    "\n",
    "clf = SVC()\n",
    "clf.fit(X_data, Y_data)"
   ]
  },
  {
   "cell_type": "code",
   "execution_count": 2,
   "metadata": {},
   "outputs": [
    {
     "data": {
      "text/plain": [
       "0.9733333333333334"
      ]
     },
     "execution_count": 2,
     "metadata": {},
     "output_type": "execute_result"
    }
   ],
   "source": [
    "clf.score(X_data, Y_data)"
   ]
  },
  {
   "cell_type": "code",
   "execution_count": 3,
   "metadata": {},
   "outputs": [
    {
     "name": "stdout",
     "output_type": "stream",
     "text": [
      "0.9733333333333334\n"
     ]
    }
   ],
   "source": [
    "import pickle\n",
    "outpath = 'save'\n",
    "if not os.path.exists(outpath):\n",
    "    os.mkdir(outpath)\n",
    "with open(os.path.join(outpath, 'clf.pickle'), 'wb') as f:\n",
    "    pickle.dump(clf, f)\n",
    "    \n",
    "with open(os.path.join(outpath, 'clf.pickle'), 'rb') as f:\n",
    "    clf2 = pickle.load(f)\n",
    "    print(clf2.score(X_data, Y_data))"
   ]
  },
  {
   "cell_type": "code",
   "execution_count": 4,
   "metadata": {},
   "outputs": [
    {
     "name": "stdout",
     "output_type": "stream",
     "text": [
      "0.9733333333333334\n"
     ]
    }
   ],
   "source": [
    "import joblib\n",
    "outpath = 'save'\n",
    "if not os.path.exists(outpath):\n",
    "    os.mkdir(outpath)\n",
    "joblib.dump(clf, os.path.join(outpath, 'clf_joblib.pkl'))\n",
    "clf3 = joblib.load(os.path.join(outpath, 'clf_joblib.pkl'))\n",
    "print(clf3.score(X_data, Y_data))"
   ]
  },
  {
   "cell_type": "code",
   "execution_count": null,
   "metadata": {},
   "outputs": [],
   "source": []
  }
 ],
 "metadata": {
  "kernelspec": {
   "display_name": "Python 3",
   "language": "python",
   "name": "python3"
  },
  "language_info": {
   "codemirror_mode": {
    "name": "ipython",
    "version": 3
   },
   "file_extension": ".py",
   "mimetype": "text/x-python",
   "name": "python",
   "nbconvert_exporter": "python",
   "pygments_lexer": "ipython3",
   "version": "3.7.6"
  }
 },
 "nbformat": 4,
 "nbformat_minor": 4
}
